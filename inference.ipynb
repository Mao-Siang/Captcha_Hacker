{
  "cells": [
    {
      "attachments": {},
      "cell_type": "markdown",
      "metadata": {},
      "source": [
        "# Inference code for Captcha Hacker"
      ]
    },
    {
      "cell_type": "markdown",
      "metadata": {},
      "source": [
        "### Import Module"
      ]
    },
    {
      "cell_type": "code",
      "execution_count": 3,
      "metadata": {
        "id": "VXL4alkn-fnw"
      },
      "outputs": [],
      "source": [
        "import torch\n",
        "import pandas as pd\n",
        "from pathlib import Path\n",
        "import cv2\n",
        "import numpy as np\n",
        "import torchvision.transforms as tf"
      ]
    },
    {
      "cell_type": "markdown",
      "metadata": {},
      "source": [
        "### Mount from Google Drive"
      ]
    },
    {
      "cell_type": "code",
      "execution_count": 4,
      "metadata": {
        "colab": {
          "base_uri": "https://localhost:8080/"
        },
        "id": "FLmvjhC3ahUz",
        "outputId": "b109497e-3159-48f3-f51b-e8d0e2b1f371"
      },
      "outputs": [
        {
          "name": "stdout",
          "output_type": "stream",
          "text": [
            "Mounted at /content/drive\n"
          ]
        }
      ],
      "source": [
        "from google.colab import drive\n",
        "drive.mount('/content/drive', force_remount=True)"
      ]
    },
    {
      "cell_type": "markdown",
      "metadata": {},
      "source": [
        "### Set Seed"
      ]
    },
    {
      "cell_type": "code",
      "execution_count": 5,
      "metadata": {
        "id": "oXcxUAaLfrRo"
      },
      "outputs": [],
      "source": [
        "torch.manual_seed(120)\n",
        "np.random.seed(120)"
      ]
    },
    {
      "cell_type": "markdown",
      "metadata": {},
      "source": [
        "### Model Structure"
      ]
    },
    {
      "cell_type": "code",
      "execution_count": 6,
      "metadata": {
        "id": "HC_aBG6UcS1A"
      },
      "outputs": [],
      "source": [
        "import torch.nn as nn\n",
        "from torchvision.models import resnet18\n",
        "\n",
        "\n",
        "class ResCAPTCHA(nn.Module):\n",
        "    def __init__(self) -> None:\n",
        "        super().__init__()\n",
        "        self.model = resnet18(weights=\"DEFAULT\")\n",
        "        self.model.fc = nn.Linear(512, 128)\n",
        "        self.drop1 = nn.Dropout(0.3)\n",
        "        self.dense1 = nn.Linear(in_features=128, out_features=36)\n",
        "        self.dense2 = nn.Linear(in_features=128, out_features=36)\n",
        "        self.dense3 = nn.Linear(in_features=128, out_features=36)\n",
        "        self.dense4 = nn.Linear(in_features=128, out_features=36)\n",
        "\n",
        "    def forward(self, input):\n",
        "        x = self.model(input)\n",
        "        x = self.drop1(x)\n",
        "        output = [self.dense1(x), self.dense2(x), self.dense3(x), self.dense4(x)]\n",
        "        return output"
      ]
    },
    {
      "cell_type": "code",
      "execution_count": 7,
      "metadata": {
        "colab": {
          "base_uri": "https://localhost:8080/"
        },
        "id": "wWVs2-Skc6WU",
        "outputId": "e581f038-788f-4ceb-fb3c-16a3aced7f17"
      },
      "outputs": [
        {
          "name": "stdout",
          "output_type": "stream",
          "text": [
            "/content/drive/MyDrive/ML_HW5\n"
          ]
        }
      ],
      "source": [
        "%cd \"/content/drive/MyDrive/ML_HW5\""
      ]
    },
    {
      "cell_type": "markdown",
      "metadata": {},
      "source": [
        "### Predict"
      ]
    },
    {
      "cell_type": "code",
      "execution_count": 8,
      "metadata": {
        "id": "qzM_6DhGXCoP"
      },
      "outputs": [],
      "source": [
        "def predict(cur_task, model_path, length, model_type=\"\"):\n",
        "   \n",
        "    model = ResCAPTCHA()\n",
        "  \n",
        "    device = torch.device(\"cuda\" if torch.cuda.is_available() else \"cpu\")\n",
        "    model.to(device)\n",
        "    model.load_state_dict(torch.load(model_path))\n",
        "    model.eval()\n",
        "    with torch.no_grad():\n",
        "        test_path = Path(\".\") / \"test\"\n",
        "        for path in test_path.rglob(\"*.png\"):\n",
        "            if str(path).split(\"/\")[1] == cur_task:\n",
        "                img = cv2.imread(str(path))\n",
        "                img = cv2.cvtColor(img, cv2.COLOR_BGR2GRAY)\n",
        "                \n",
        "                img = img / 255.0\n",
        "                img = np.reshape(img, (img.shape[0], img.shape[1], 1))\n",
        "                img = img.transpose((2, 0, 1))\n",
        "\n",
        "                img = torch.tensor(img.astype(np.float32))\n",
        "                img = torch.reshape(img, (1, img.shape[0], img.shape[1], img.shape[2]))\n",
        "                \n",
        "                candidate = [{} for _ in range(length)]\n",
        "                for _ in range(5):\n",
        "                  cur_img = transform(img)\n",
        "                  cur_img = cur_img.to(device)\n",
        "                  output = model(cur_img)\n",
        "                 \n",
        "                  for i in range(length):\n",
        "                      index = alphabet[torch.argmax(output[i])]\n",
        "                      if index in candidate[i].keys():\n",
        "                        candidate[i][index] += 1\n",
        "                      else:\n",
        "                        candidate[i][index] = 1\n",
        "                result = \"\"\n",
        "                for i in range(length):\n",
        "                  result += max(candidate[i], key=candidate[i].get)  \n",
        "                ''' file path matters '''\n",
        "                prediction[\"filename\"].append(str(path)[5:])\n",
        "                prediction[\"label\"].append(result)"
      ]
    },
    {
      "cell_type": "markdown",
      "metadata": {},
      "source": [
        "### Predict and Write CSV file"
      ]
    },
    {
      "cell_type": "code",
      "execution_count": 9,
      "metadata": {
        "colab": {
          "base_uri": "https://localhost:8080/",
          "height": 105,
          "referenced_widgets": [
            "a49eba6e995045438df71f4f6fc489ca",
            "6ca80450962e4af487b01952a570e80f",
            "c79a06ffbc094d4fbfe23e33ce998698",
            "b02b134554dd4b65945ee0033f6ac739",
            "600e1e844dfc41f39b3ed23a0cb13342",
            "b1056394647e405faa37f7424904e93f",
            "05f25a92fe514819b33df891c7cc7d50",
            "919cecb5301340cb956b53d994f79d66",
            "553d5f68092b4dbe9a06e1d5b6040c0a",
            "7a932159bf3e48fabe5b4636eaed2064",
            "d6d8b63465e64de7b244a5f7b571e0dc"
          ]
        },
        "id": "XPJZE08NYj8_",
        "outputId": "3e9ab9b1-e538-41c3-da63-83266f2ccb2c"
      },
      "outputs": [
        {
          "name": "stderr",
          "output_type": "stream",
          "text": [
            "Downloading: \"https://download.pytorch.org/models/resnet18-f37072fd.pth\" to /root/.cache/torch/hub/checkpoints/resnet18-f37072fd.pth\n"
          ]
        },
        {
          "data": {
            "application/vnd.jupyter.widget-view+json": {
              "model_id": "a49eba6e995045438df71f4f6fc489ca",
              "version_major": 2,
              "version_minor": 0
            },
            "text/plain": [
              "  0%|          | 0.00/44.7M [00:00<?, ?B/s]"
            ]
          },
          "metadata": {},
          "output_type": "display_data"
        },
        {
          "name": "stdout",
          "output_type": "stream",
          "text": [
            "/content\n"
          ]
        }
      ],
      "source": [
        "alphabet = list(\"0123456789abcdefghijklmnopqrstuvwxyz\")\n",
        "prediction = {\"filename\": [], \"label\": []}\n",
        "transform = tf.Compose(\n",
        "    [\n",
        "        tf.RandomRotation([0, 15]),\n",
        "        tf.Lambda(lambda x: x.repeat(1, 3, 1, 1)),\n",
        "    ]\n",
        ")\n",
        "\n",
        "predict(cur_task=\"task1\", model_path=\"/content/drive/MyDrive/109550003_HW5/model1_res18.pth\", length=1)\n",
        "predict(cur_task=\"task2\", model_path=\"/content/drive/MyDrive/109550003_HW5/model2_res18.pth\", length=2)\n",
        "predict(cur_task=\"task3\", model_path=\"/content/drive/MyDrive/109550003_HW5/model4_res18.pth\", length=4)\n",
        "\n",
        "%cd \"/content\"\n",
        "df = pd.DataFrame(prediction)\n",
        "df.to_csv(\"submission.csv\", index=False)"
      ]
    }
  ],
  "metadata": {
    "accelerator": "GPU",
    "colab": {
      "provenance": []
    },
    "gpuClass": "standard",
    "kernelspec": {
      "display_name": "Python 3.10.8 64-bit",
      "language": "python",
      "name": "python3"
    },
    "language_info": {
      "name": "python",
      "version": "3.10.9 (main, Dec 15 2022, 17:11:09) [Clang 14.0.0 (clang-1400.0.29.202)]"
    },
    "vscode": {
      "interpreter": {
        "hash": "b0fa6594d8f4cbf19f97940f81e996739fb7646882a419484c72d19e05852a7e"
      }
    },
    "widgets": {
      "application/vnd.jupyter.widget-state+json": {
        "05f25a92fe514819b33df891c7cc7d50": {
          "model_module": "@jupyter-widgets/controls",
          "model_module_version": "1.5.0",
          "model_name": "DescriptionStyleModel",
          "state": {
            "_model_module": "@jupyter-widgets/controls",
            "_model_module_version": "1.5.0",
            "_model_name": "DescriptionStyleModel",
            "_view_count": null,
            "_view_module": "@jupyter-widgets/base",
            "_view_module_version": "1.2.0",
            "_view_name": "StyleView",
            "description_width": ""
          }
        },
        "553d5f68092b4dbe9a06e1d5b6040c0a": {
          "model_module": "@jupyter-widgets/controls",
          "model_module_version": "1.5.0",
          "model_name": "ProgressStyleModel",
          "state": {
            "_model_module": "@jupyter-widgets/controls",
            "_model_module_version": "1.5.0",
            "_model_name": "ProgressStyleModel",
            "_view_count": null,
            "_view_module": "@jupyter-widgets/base",
            "_view_module_version": "1.2.0",
            "_view_name": "StyleView",
            "bar_color": null,
            "description_width": ""
          }
        },
        "600e1e844dfc41f39b3ed23a0cb13342": {
          "model_module": "@jupyter-widgets/base",
          "model_module_version": "1.2.0",
          "model_name": "LayoutModel",
          "state": {
            "_model_module": "@jupyter-widgets/base",
            "_model_module_version": "1.2.0",
            "_model_name": "LayoutModel",
            "_view_count": null,
            "_view_module": "@jupyter-widgets/base",
            "_view_module_version": "1.2.0",
            "_view_name": "LayoutView",
            "align_content": null,
            "align_items": null,
            "align_self": null,
            "border": null,
            "bottom": null,
            "display": null,
            "flex": null,
            "flex_flow": null,
            "grid_area": null,
            "grid_auto_columns": null,
            "grid_auto_flow": null,
            "grid_auto_rows": null,
            "grid_column": null,
            "grid_gap": null,
            "grid_row": null,
            "grid_template_areas": null,
            "grid_template_columns": null,
            "grid_template_rows": null,
            "height": null,
            "justify_content": null,
            "justify_items": null,
            "left": null,
            "margin": null,
            "max_height": null,
            "max_width": null,
            "min_height": null,
            "min_width": null,
            "object_fit": null,
            "object_position": null,
            "order": null,
            "overflow": null,
            "overflow_x": null,
            "overflow_y": null,
            "padding": null,
            "right": null,
            "top": null,
            "visibility": null,
            "width": null
          }
        },
        "6ca80450962e4af487b01952a570e80f": {
          "model_module": "@jupyter-widgets/controls",
          "model_module_version": "1.5.0",
          "model_name": "HTMLModel",
          "state": {
            "_dom_classes": [],
            "_model_module": "@jupyter-widgets/controls",
            "_model_module_version": "1.5.0",
            "_model_name": "HTMLModel",
            "_view_count": null,
            "_view_module": "@jupyter-widgets/controls",
            "_view_module_version": "1.5.0",
            "_view_name": "HTMLView",
            "description": "",
            "description_tooltip": null,
            "layout": "IPY_MODEL_b1056394647e405faa37f7424904e93f",
            "placeholder": "​",
            "style": "IPY_MODEL_05f25a92fe514819b33df891c7cc7d50",
            "value": "100%"
          }
        },
        "7a932159bf3e48fabe5b4636eaed2064": {
          "model_module": "@jupyter-widgets/base",
          "model_module_version": "1.2.0",
          "model_name": "LayoutModel",
          "state": {
            "_model_module": "@jupyter-widgets/base",
            "_model_module_version": "1.2.0",
            "_model_name": "LayoutModel",
            "_view_count": null,
            "_view_module": "@jupyter-widgets/base",
            "_view_module_version": "1.2.0",
            "_view_name": "LayoutView",
            "align_content": null,
            "align_items": null,
            "align_self": null,
            "border": null,
            "bottom": null,
            "display": null,
            "flex": null,
            "flex_flow": null,
            "grid_area": null,
            "grid_auto_columns": null,
            "grid_auto_flow": null,
            "grid_auto_rows": null,
            "grid_column": null,
            "grid_gap": null,
            "grid_row": null,
            "grid_template_areas": null,
            "grid_template_columns": null,
            "grid_template_rows": null,
            "height": null,
            "justify_content": null,
            "justify_items": null,
            "left": null,
            "margin": null,
            "max_height": null,
            "max_width": null,
            "min_height": null,
            "min_width": null,
            "object_fit": null,
            "object_position": null,
            "order": null,
            "overflow": null,
            "overflow_x": null,
            "overflow_y": null,
            "padding": null,
            "right": null,
            "top": null,
            "visibility": null,
            "width": null
          }
        },
        "919cecb5301340cb956b53d994f79d66": {
          "model_module": "@jupyter-widgets/base",
          "model_module_version": "1.2.0",
          "model_name": "LayoutModel",
          "state": {
            "_model_module": "@jupyter-widgets/base",
            "_model_module_version": "1.2.0",
            "_model_name": "LayoutModel",
            "_view_count": null,
            "_view_module": "@jupyter-widgets/base",
            "_view_module_version": "1.2.0",
            "_view_name": "LayoutView",
            "align_content": null,
            "align_items": null,
            "align_self": null,
            "border": null,
            "bottom": null,
            "display": null,
            "flex": null,
            "flex_flow": null,
            "grid_area": null,
            "grid_auto_columns": null,
            "grid_auto_flow": null,
            "grid_auto_rows": null,
            "grid_column": null,
            "grid_gap": null,
            "grid_row": null,
            "grid_template_areas": null,
            "grid_template_columns": null,
            "grid_template_rows": null,
            "height": null,
            "justify_content": null,
            "justify_items": null,
            "left": null,
            "margin": null,
            "max_height": null,
            "max_width": null,
            "min_height": null,
            "min_width": null,
            "object_fit": null,
            "object_position": null,
            "order": null,
            "overflow": null,
            "overflow_x": null,
            "overflow_y": null,
            "padding": null,
            "right": null,
            "top": null,
            "visibility": null,
            "width": null
          }
        },
        "a49eba6e995045438df71f4f6fc489ca": {
          "model_module": "@jupyter-widgets/controls",
          "model_module_version": "1.5.0",
          "model_name": "HBoxModel",
          "state": {
            "_dom_classes": [],
            "_model_module": "@jupyter-widgets/controls",
            "_model_module_version": "1.5.0",
            "_model_name": "HBoxModel",
            "_view_count": null,
            "_view_module": "@jupyter-widgets/controls",
            "_view_module_version": "1.5.0",
            "_view_name": "HBoxView",
            "box_style": "",
            "children": [
              "IPY_MODEL_6ca80450962e4af487b01952a570e80f",
              "IPY_MODEL_c79a06ffbc094d4fbfe23e33ce998698",
              "IPY_MODEL_b02b134554dd4b65945ee0033f6ac739"
            ],
            "layout": "IPY_MODEL_600e1e844dfc41f39b3ed23a0cb13342"
          }
        },
        "b02b134554dd4b65945ee0033f6ac739": {
          "model_module": "@jupyter-widgets/controls",
          "model_module_version": "1.5.0",
          "model_name": "HTMLModel",
          "state": {
            "_dom_classes": [],
            "_model_module": "@jupyter-widgets/controls",
            "_model_module_version": "1.5.0",
            "_model_name": "HTMLModel",
            "_view_count": null,
            "_view_module": "@jupyter-widgets/controls",
            "_view_module_version": "1.5.0",
            "_view_name": "HTMLView",
            "description": "",
            "description_tooltip": null,
            "layout": "IPY_MODEL_7a932159bf3e48fabe5b4636eaed2064",
            "placeholder": "​",
            "style": "IPY_MODEL_d6d8b63465e64de7b244a5f7b571e0dc",
            "value": " 44.7M/44.7M [00:00&lt;00:00, 230MB/s]"
          }
        },
        "b1056394647e405faa37f7424904e93f": {
          "model_module": "@jupyter-widgets/base",
          "model_module_version": "1.2.0",
          "model_name": "LayoutModel",
          "state": {
            "_model_module": "@jupyter-widgets/base",
            "_model_module_version": "1.2.0",
            "_model_name": "LayoutModel",
            "_view_count": null,
            "_view_module": "@jupyter-widgets/base",
            "_view_module_version": "1.2.0",
            "_view_name": "LayoutView",
            "align_content": null,
            "align_items": null,
            "align_self": null,
            "border": null,
            "bottom": null,
            "display": null,
            "flex": null,
            "flex_flow": null,
            "grid_area": null,
            "grid_auto_columns": null,
            "grid_auto_flow": null,
            "grid_auto_rows": null,
            "grid_column": null,
            "grid_gap": null,
            "grid_row": null,
            "grid_template_areas": null,
            "grid_template_columns": null,
            "grid_template_rows": null,
            "height": null,
            "justify_content": null,
            "justify_items": null,
            "left": null,
            "margin": null,
            "max_height": null,
            "max_width": null,
            "min_height": null,
            "min_width": null,
            "object_fit": null,
            "object_position": null,
            "order": null,
            "overflow": null,
            "overflow_x": null,
            "overflow_y": null,
            "padding": null,
            "right": null,
            "top": null,
            "visibility": null,
            "width": null
          }
        },
        "c79a06ffbc094d4fbfe23e33ce998698": {
          "model_module": "@jupyter-widgets/controls",
          "model_module_version": "1.5.0",
          "model_name": "FloatProgressModel",
          "state": {
            "_dom_classes": [],
            "_model_module": "@jupyter-widgets/controls",
            "_model_module_version": "1.5.0",
            "_model_name": "FloatProgressModel",
            "_view_count": null,
            "_view_module": "@jupyter-widgets/controls",
            "_view_module_version": "1.5.0",
            "_view_name": "ProgressView",
            "bar_style": "success",
            "description": "",
            "description_tooltip": null,
            "layout": "IPY_MODEL_919cecb5301340cb956b53d994f79d66",
            "max": 46830571,
            "min": 0,
            "orientation": "horizontal",
            "style": "IPY_MODEL_553d5f68092b4dbe9a06e1d5b6040c0a",
            "value": 46830571
          }
        },
        "d6d8b63465e64de7b244a5f7b571e0dc": {
          "model_module": "@jupyter-widgets/controls",
          "model_module_version": "1.5.0",
          "model_name": "DescriptionStyleModel",
          "state": {
            "_model_module": "@jupyter-widgets/controls",
            "_model_module_version": "1.5.0",
            "_model_name": "DescriptionStyleModel",
            "_view_count": null,
            "_view_module": "@jupyter-widgets/base",
            "_view_module_version": "1.2.0",
            "_view_name": "StyleView",
            "description_width": ""
          }
        }
      }
    }
  },
  "nbformat": 4,
  "nbformat_minor": 0
}
