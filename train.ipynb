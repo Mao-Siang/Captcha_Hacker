{
  "cells": [
    {
      "attachments": {},
      "cell_type": "markdown",
      "metadata": {
        "id": "PM-ecQ6Naim7"
      },
      "source": [
        "# Captcha Hacker"
      ]
    },
    {
      "cell_type": "markdown",
      "metadata": {
        "id": "LnMN8HKsaciK"
      },
      "source": [
        "### 1. Import Modules"
      ]
    },
    {
      "cell_type": "code",
      "execution_count": 1,
      "metadata": {
        "id": "U4D7rYTtOK9w"
      },
      "outputs": [],
      "source": [
        "from torch.utils.data import DataLoader, TensorDataset, Dataset\n",
        "import torch\n",
        "import torch.nn.functional as F\n",
        "import pandas as pd\n",
        "from pathlib import Path\n",
        "import os\n",
        "import cv2\n",
        "import numpy as np\n",
        "import torchvision.transforms as tf\n",
        "from torch.optim import Adam\n",
        "from torch.optim.lr_scheduler import ReduceLROnPlateau, ExponentialLR\n",
        "import time"
      ]
    },
    {
      "cell_type": "markdown",
      "metadata": {
        "id": "_QtDbc3YOXqc"
      },
      "source": [
        "### 2. Load Data"
      ]
    },
    {
      "cell_type": "code",
      "execution_count": 2,
      "metadata": {
        "colab": {
          "base_uri": "https://localhost:8080/"
        },
        "id": "zrjkWyJ0qQ84",
        "outputId": "1c461f20-edf0-4712-8030-1d979ab96303"
      },
      "outputs": [
        {
          "name": "stdout",
          "output_type": "stream",
          "text": [
            "Mounted at /content/drive\n"
          ]
        }
      ],
      "source": [
        "from google.colab import drive\n",
        "drive.mount('/content/drive', force_remount=True)"
      ]
    },
    {
      "cell_type": "code",
      "execution_count": 3,
      "metadata": {
        "id": "hRrEiYBcSnlP"
      },
      "outputs": [],
      "source": [
        "# !unzip /content/drive/MyDrive/ML_HW5/captcha.zip -d /content\n",
        "# !unzip /content/drive/MyDrive/ML_HW5/test.zip -d /content"
      ]
    },
    {
      "cell_type": "code",
      "execution_count": 4,
      "metadata": {
        "id": "3kILJrbRwfF1"
      },
      "outputs": [],
      "source": [
        "# %cd \"/content/drive/MyDrive/ML_HW5\""
      ]
    },
    {
      "cell_type": "markdown",
      "metadata": {
        "id": "-X1ahRqNbaLs"
      },
      "source": [
        "### 3. Set Random Seed\n"
      ]
    },
    {
      "cell_type": "code",
      "execution_count": 5,
      "metadata": {
        "id": "6gQC17P9bdB1"
      },
      "outputs": [],
      "source": [
        "torch.manual_seed(120)\n",
        "np.random.seed(120)"
      ]
    },
    {
      "cell_type": "markdown",
      "metadata": {
        "id": "lfJc5198av1G"
      },
      "source": [
        "### 4. Custom Dataset"
      ]
    },
    {
      "cell_type": "code",
      "execution_count": 6,
      "metadata": {
        "id": "gckW_go0ObgC"
      },
      "outputs": [],
      "source": [
        "class CaptchaDataset(Dataset):\n",
        "    def __init__(self, train_img, train_label) -> None:\n",
        "        self.train_img = train_img\n",
        "        self.train_label = train_label\n",
        "        self.length = len(train_img)\n",
        "        self.transform = tf.Compose(\n",
        "            [\n",
        "                tf.RandomRotation([0, 15]),\n",
        "                tf.Lambda(lambda x: x.repeat(3, 1, 1)),\n",
        "            ]\n",
        "        )\n",
        "\n",
        "    def __getitem__(self, index):\n",
        "\n",
        "        image = self.transform(self.train_img[index])\n",
        "\n",
        "        label = self.train_label[index]\n",
        "        return image, label\n",
        "\n",
        "    def __len__(self):\n",
        "        return self.length"
      ]
    },
    {
      "cell_type": "markdown",
      "metadata": {
        "id": "5Za1phHFa1jt"
      },
      "source": [
        "### 5. Load Data Function"
      ]
    },
    {
      "cell_type": "code",
      "execution_count": 7,
      "metadata": {
        "id": "G-eDjPa7a5oe"
      },
      "outputs": [],
      "source": [
        "def load_data(captcha_len=1, batch_size=128):\n",
        "    alphabet = list(\"0123456789abcdefghijklmnopqrstuvwxyz\")\n",
        "    x = captcha_len if captcha_len != 4 else 3\n",
        "    train_path = Path(\".\") / \"captcha\" / f\"task{x}\"\n",
        "\n",
        "    train_img = []\n",
        "    train_label = []\n",
        "\n",
        "    for path in train_path.rglob(\"*.png\"):\n",
        "        img = cv2.imread(str(path))\n",
        "        img = cv2.cvtColor(img, cv2.COLOR_BGR2GRAY)\n",
        "        img = img / 255.0\n",
        "        # cv2.imshow(\"\", img)\n",
        "        # cv2.waitKey(0)\n",
        "        img = np.reshape(img, (img.shape[0], img.shape[1], 1))\n",
        "        img = img.transpose((2, 0, 1))\n",
        "        label = str(path).split(\"/\")[-1].split(\"_\")[0]\n",
        "\n",
        "        code = np.zeros((captcha_len, len(alphabet)))\n",
        "        for i in range(captcha_len):\n",
        "            code[i, alphabet.index(label[i])] = 1\n",
        "\n",
        "        train_img.append(img)\n",
        "        train_label.append(code)\n",
        "\n",
        "    train_len = int(len(train_img) * 0.8)\n",
        "    print(f\"train_len: {train_len}\")\n",
        "\n",
        "    shuffle = np.arange(len(train_img))\n",
        "    np.random.shuffle(shuffle)\n",
        "\n",
        "    train_img = np.array(train_img)[shuffle].astype(np.float32)\n",
        "    train_label = np.array(train_label)[shuffle]\n",
        "\n",
        "    train_data = torch.tensor(train_img[:train_len])\n",
        "    train_labels = torch.tensor(train_label[:train_len])\n",
        "    train_set = CaptchaDataset(train_data, train_labels)\n",
        "    train_iter = DataLoader(train_set, batch_size=batch_size, shuffle=True)\n",
        "\n",
        "    valid_data = torch.tensor(train_img[train_len:])\n",
        "    valid_labels = torch.tensor(train_label[train_len:])\n",
        "    valid_set = CaptchaDataset(valid_data, valid_labels)\n",
        "    valid_iter = DataLoader(valid_set, batch_size=batch_size)\n",
        "\n",
        "    return train_iter, valid_iter\n"
      ]
    },
    {
      "cell_type": "markdown",
      "metadata": {
        "id": "HrqqdvOkOgIM"
      },
      "source": [
        "### 6. Model\n"
      ]
    },
    {
      "cell_type": "code",
      "execution_count": 8,
      "metadata": {
        "id": "i97xw1-0OiTO"
      },
      "outputs": [],
      "source": [
        "import torch.nn as nn\n",
        "from torchvision.models import resnet18\n",
        "\n",
        "\n",
        "class ResCAPTCHA(nn.Module):\n",
        "    def __init__(self) -> None:\n",
        "        super().__init__()\n",
        "        self.model = resnet18(weights=\"DEFAULT\")\n",
        "        self.model.fc = nn.Linear(512, 128)\n",
        "        self.drop1 = nn.Dropout(0.3)\n",
        "        self.dense1 = nn.Linear(in_features=128, out_features=36)\n",
        "        self.dense2 = nn.Linear(in_features=128, out_features=36)\n",
        "        self.dense3 = nn.Linear(in_features=128, out_features=36)\n",
        "        self.dense4 = nn.Linear(in_features=128, out_features=36)\n",
        "\n",
        "    def forward(self, input):\n",
        "        x = self.model(input)\n",
        "        x = self.drop1(x)\n",
        "        output = [self.dense1(x), self.dense2(x), self.dense3(x), self.dense4(x)]\n",
        "        return output\n"
      ]
    },
    {
      "cell_type": "markdown",
      "metadata": {
        "id": "RVDseftdOqdq"
      },
      "source": [
        "### 7. Train"
      ]
    },
    {
      "cell_type": "code",
      "execution_count": 9,
      "metadata": {
        "id": "4YD_EH6qOr4C"
      },
      "outputs": [],
      "source": [
        "def train(captcha_len):\n",
        "    model.train()\n",
        "    min_loss = 100000.0\n",
        "    for epoch in range(epochs):\n",
        "        print(f\"|epoch: {epoch+1}|\")\n",
        "        start_time = time.time()\n",
        "        running_loss = [0.0 for _ in range(captcha_len)]\n",
        "        batches = 0\n",
        "        for data in train_iter:\n",
        "            images, labels = data\n",
        "            optimizer.zero_grad()\n",
        "            images = images.to(device)\n",
        "            labels = labels.to(device)\n",
        "            outputs = model(images)\n",
        "\n",
        "            for i in range(captcha_len):\n",
        "                loss = criterion(outputs[i], labels[:, i, :])\n",
        "                if i == captcha_len - 1:\n",
        "                    loss.backward()\n",
        "                else:\n",
        "                    loss.backward(retain_graph=True)\n",
        "                running_loss[i] += loss.item()\n",
        "\n",
        "            optimizer.step()\n",
        "            batches += 1\n",
        "\n",
        "        for j in range(captcha_len):\n",
        "            print(f\"loss{j+1}: {running_loss[j]/batches} \", end=\"\")\n",
        "\n",
        "        running_loss = [0.0 for _ in range(captcha_len)]\n",
        "        with torch.no_grad():\n",
        "            valid_loss = [0.0 for _ in range(captcha_len)]\n",
        "            batches = 0\n",
        "            for data in valid_iter:\n",
        "                images, labels = data\n",
        "                images = images.to(device)\n",
        "                labels = labels.to(device)\n",
        "                optimizer.zero_grad()\n",
        "                outputs = model(images)\n",
        "                for i in range(captcha_len):\n",
        "                    loss = criterion(outputs[i], labels[:, i, :])\n",
        "\n",
        "                    valid_loss[i] += loss.item()\n",
        "                batches += 1\n",
        "            print(\"\\n|Validation:|\")\n",
        "            for j in range(captcha_len):\n",
        "                print(\n",
        "                    f\"loss{j+1}: {valid_loss[j]/batches} \",\n",
        "                    end=\"\",\n",
        "                )\n",
        "   \n",
        "            if (sum(valid_loss) / (captcha_len * batches)) < min_loss:\n",
        "                print(\"\\nSaving...\")\n",
        "                min_loss = sum(valid_loss) / (captcha_len * batches)\n",
        "                torch.save(model.state_dict(), f\"/content/model{captcha_len}_res18.pth\")\n",
        "        print(f\"time: {time.time() - start_time}\")\n",
        "        print(\"-\" * 70)\n",
        "\n",
        "\n",
        "\n"
      ]
    },
    {
      "cell_type": "markdown",
      "metadata": {
        "id": "eH5EA2Z4Wfe5"
      },
      "source": [
        "### Task1"
      ]
    },
    {
      "cell_type": "code",
      "execution_count": 10,
      "metadata": {
        "colab": {
          "base_uri": "https://localhost:8080/",
          "height": 1000,
          "referenced_widgets": [
            "1f6f001f235140b793daa71dffb5d454",
            "8d5f19ea02884adbbcb2f663390c61b6",
            "ff809e774a954ceab4d0c227dd54d6da",
            "0f79edd7b33e45ef95b237a7874c56ff",
            "9aba4e435da544708f49c243a6d7e118",
            "267ecbd195574409895865255b1e2b14",
            "92b54b9ddd1c47d3bdce509ad9eba4b5",
            "95849bf25bf34d459a7235dc3223260f",
            "3f8d0a10580c4d6b82341bda18c31d95",
            "f7048fe32cab4216bfd66b9b0c2c5b45",
            "320ea50f9dd4473588bccdde775bcc37"
          ]
        },
        "id": "wwgPjLDhWeRH",
        "outputId": "22451a73-0deb-4c71-be9b-e8f87cbd4cb2"
      },
      "outputs": [
        {
          "name": "stdout",
          "output_type": "stream",
          "text": [
            "train_len: 8000\n"
          ]
        },
        {
          "name": "stderr",
          "output_type": "stream",
          "text": [
            "Downloading: \"https://download.pytorch.org/models/resnet18-f37072fd.pth\" to /root/.cache/torch/hub/checkpoints/resnet18-f37072fd.pth\n"
          ]
        },
        {
          "data": {
            "application/vnd.jupyter.widget-view+json": {
              "model_id": "1f6f001f235140b793daa71dffb5d454",
              "version_major": 2,
              "version_minor": 0
            },
            "text/plain": [
              "  0%|          | 0.00/44.7M [00:00<?, ?B/s]"
            ]
          },
          "metadata": {},
          "output_type": "display_data"
        },
        {
          "name": "stdout",
          "output_type": "stream",
          "text": [
            "|epoch: 1|\n",
            "loss1: 0.34084943415410396 \n",
            "|Validation:|\n",
            "loss1: 0.0416596128867454 \n",
            "Saving...\n",
            "time: 16.85210657119751\n",
            "----------------------------------------------------------------------\n",
            "|epoch: 2|\n",
            "loss1: 0.036711228171293304 \n",
            "|Validation:|\n",
            "loss1: 0.03636834870145821 \n",
            "Saving...\n",
            "time: 9.270767450332642\n",
            "----------------------------------------------------------------------\n",
            "|epoch: 3|\n",
            "loss1: 0.036777953753731336 \n",
            "|Validation:|\n",
            "loss1: 0.04175509744234129 time: 9.201897859573364\n",
            "----------------------------------------------------------------------\n",
            "|epoch: 4|\n",
            "loss1: 0.018417900901523933 \n",
            "|Validation:|\n",
            "loss1: 0.013839871226489282 \n",
            "Saving...\n",
            "time: 9.882970809936523\n",
            "----------------------------------------------------------------------\n",
            "|epoch: 5|\n",
            "loss1: 0.028272782251487834 \n",
            "|Validation:|\n",
            "loss1: 0.02795611450674679 time: 9.113187074661255\n",
            "----------------------------------------------------------------------\n",
            "|epoch: 6|\n",
            "loss1: 0.015984131676526084 \n",
            "|Validation:|\n",
            "loss1: 0.012192688084027181 \n",
            "Saving...\n",
            "time: 9.208813905715942\n",
            "----------------------------------------------------------------------\n",
            "|epoch: 7|\n",
            "loss1: 0.010692442457715605 \n",
            "|Validation:|\n",
            "loss1: 0.018826913646731044 time: 9.065651655197144\n",
            "----------------------------------------------------------------------\n",
            "|epoch: 8|\n",
            "loss1: 0.0169226830623406 \n",
            "|Validation:|\n",
            "loss1: 0.016323304916070955 time: 9.04833722114563\n",
            "----------------------------------------------------------------------\n",
            "|epoch: 9|\n",
            "loss1: 0.008793787384207039 \n",
            "|Validation:|\n",
            "loss1: 0.02890002338781477 time: 9.11563229560852\n",
            "----------------------------------------------------------------------\n",
            "|epoch: 10|\n",
            "loss1: 0.01107932339492773 \n",
            "|Validation:|\n",
            "loss1: 0.0061760127282330475 \n",
            "Saving...\n",
            "time: 9.24627685546875\n",
            "----------------------------------------------------------------------\n"
          ]
        }
      ],
      "source": [
        "captcha_len = 1\n",
        "\n",
        "train_iter, valid_iter = load_data(captcha_len, batch_size=128)\n",
        "\n",
        "model = ResCAPTCHA()\n",
        "device = torch.device(\"cuda\" if torch.cuda.is_available() else \"cpu\")\n",
        "model.to(device)\n",
        "optimizer = Adam(params=model.parameters(), lr=1e-3)\n",
        "scheduler = ReduceLROnPlateau(optimizer, patience=2)\n",
        "scheduler = ExponentialLR(optimizer, gamma=0.7)\n",
        "criterion = nn.CrossEntropyLoss()\n",
        "\n",
        "\n",
        "epochs = 10\n",
        "train(captcha_len=1)\n"
      ]
    },
    {
      "cell_type": "markdown",
      "metadata": {
        "id": "UvZfzOgtWi41"
      },
      "source": [
        "### Task2"
      ]
    },
    {
      "cell_type": "code",
      "execution_count": 11,
      "metadata": {
        "colab": {
          "base_uri": "https://localhost:8080/"
        },
        "id": "7BvoOTFUWlIv",
        "outputId": "e62c3c87-3431-4460-e916-62bd337f3864"
      },
      "outputs": [
        {
          "name": "stdout",
          "output_type": "stream",
          "text": [
            "train_len: 15200\n",
            "|epoch: 1|\n",
            "loss1: 1.533292656290875 loss2: 1.419790459476521 \n",
            "|Validation:|\n",
            "loss1: 0.3397405111299966 loss2: 0.31336788980030045 \n",
            "Saving...\n",
            "time: 23.41341805458069\n",
            "----------------------------------------------------------------------\n",
            "|epoch: 2|\n",
            "loss1: 0.2078884796383294 loss2: 0.21581673320059458 \n",
            "|Validation:|\n",
            "loss1: 0.19284643532663875 loss2: 0.2159274511495335 \n",
            "Saving...\n",
            "time: 23.05518937110901\n",
            "----------------------------------------------------------------------\n",
            "|epoch: 3|\n",
            "loss1: 0.1181722984437389 loss2: 0.12293881210422054 \n",
            "|Validation:|\n",
            "loss1: 0.12819944162932193 loss2: 0.13619549097761613 \n",
            "Saving...\n",
            "time: 23.177544116973877\n",
            "----------------------------------------------------------------------\n",
            "|epoch: 4|\n",
            "loss1: 0.09260035497548573 loss2: 0.0873226000278937 \n",
            "|Validation:|\n",
            "loss1: 0.10035302495444055 loss2: 0.12356131237333234 \n",
            "Saving...\n",
            "time: 23.16662311553955\n",
            "----------------------------------------------------------------------\n",
            "|epoch: 5|\n",
            "loss1: 0.07951858317183107 loss2: 0.07718295809803091 \n",
            "|Validation:|\n",
            "loss1: 0.08556108935318237 loss2: 0.09295687455282428 \n",
            "Saving...\n",
            "time: 22.861079454421997\n",
            "----------------------------------------------------------------------\n",
            "|epoch: 6|\n",
            "loss1: 0.06673782698050236 loss2: 0.07531517040133036 \n",
            "|Validation:|\n",
            "loss1: 0.18226312829522157 loss2: 0.14585208784827683 time: 22.838849306106567\n",
            "----------------------------------------------------------------------\n",
            "|epoch: 7|\n",
            "loss1: 0.06810786561560525 loss2: 0.057224779946325285 \n",
            "|Validation:|\n",
            "loss1: 0.10297867756998721 loss2: 0.12172915832500635 time: 22.731876373291016\n",
            "----------------------------------------------------------------------\n",
            "|epoch: 8|\n",
            "loss1: 0.05592292493030027 loss2: 0.04773140227948962 \n",
            "|Validation:|\n",
            "loss1: 0.09279418403402269 loss2: 0.09780717859412243 time: 23.208168983459473\n",
            "----------------------------------------------------------------------\n",
            "|epoch: 9|\n",
            "loss1: 0.050758547075871775 loss2: 0.05092884423667601 \n",
            "|Validation:|\n",
            "loss1: 0.09893116296159625 loss2: 0.13219604554497172 time: 22.826238870620728\n",
            "----------------------------------------------------------------------\n",
            "|epoch: 10|\n",
            "loss1: 0.04822135162760024 loss2: 0.05133105445397516 \n",
            "|Validation:|\n",
            "loss1: 0.14464180146365122 loss2: 0.11423554130860995 time: 22.87511897087097\n",
            "----------------------------------------------------------------------\n",
            "|epoch: 11|\n",
            "loss1: 0.04937613431761399 loss2: 0.042544423562244735 \n",
            "|Validation:|\n",
            "loss1: 0.07239840471866363 loss2: 0.08044148126930288 \n",
            "Saving...\n",
            "time: 22.92655110359192\n",
            "----------------------------------------------------------------------\n",
            "|epoch: 12|\n",
            "loss1: 0.045801782563402026 loss2: 0.052698280143613815 \n",
            "|Validation:|\n",
            "loss1: 0.10295421719110776 loss2: 0.12715616620664022 time: 22.719560623168945\n",
            "----------------------------------------------------------------------\n",
            "|epoch: 13|\n",
            "loss1: 0.02847855555501692 loss2: 0.041872546200133774 \n",
            "|Validation:|\n",
            "loss1: 0.06799502354059266 loss2: 0.10215145183845792 time: 22.825111150741577\n",
            "----------------------------------------------------------------------\n",
            "|epoch: 14|\n",
            "loss1: 0.03574355362444753 loss2: 0.0384654702344731 \n",
            "|Validation:|\n",
            "loss1: 0.06100809540884388 loss2: 0.075972611998723 \n",
            "Saving...\n",
            "time: 22.967911958694458\n",
            "----------------------------------------------------------------------\n",
            "|epoch: 15|\n",
            "loss1: 0.03412972840707047 loss2: 0.04324234996552805 \n",
            "|Validation:|\n",
            "loss1: 0.07429906665034633 loss2: 0.0831144336333382 time: 23.334773540496826\n",
            "----------------------------------------------------------------------\n"
          ]
        }
      ],
      "source": [
        "captcha_len = 2\n",
        "\n",
        "train_iter, valid_iter = load_data(captcha_len, batch_size=128)\n",
        "\n",
        "model = ResCAPTCHA()\n",
        "device = torch.device(\"cuda\" if torch.cuda.is_available() else \"cpu\")\n",
        "model.to(device)\n",
        "optimizer = Adam(params=model.parameters(), lr=1e-3)\n",
        "scheduler = ReduceLROnPlateau(optimizer, patience=2)\n",
        "scheduler = ExponentialLR(optimizer, gamma=0.8)\n",
        "criterion = nn.CrossEntropyLoss()\n",
        "\n",
        "\n",
        "epochs = 15\n",
        "train(captcha_len=2)"
      ]
    },
    {
      "cell_type": "markdown",
      "metadata": {
        "id": "XdBqHo8pWlab"
      },
      "source": [
        "### Task3"
      ]
    },
    {
      "cell_type": "code",
      "execution_count": 12,
      "metadata": {
        "colab": {
          "base_uri": "https://localhost:8080/"
        },
        "id": "CY_j65YjWpS0",
        "outputId": "cf6d0ac8-8e40-456e-82c5-e4d8aa7cea5b"
      },
      "outputs": [
        {
          "name": "stdout",
          "output_type": "stream",
          "text": [
            "train_len: 20000\n",
            "|epoch: 1|\n",
            "loss1: 2.310103358208493 loss2: 3.1213676154105197 loss3: 2.992599250501649 loss4: 2.2004210397232615 \n",
            "|Validation:|\n",
            "loss1: 1.1125210028828634 loss2: 2.240680414859162 loss3: 1.986625257936248 loss4: 0.9135818893557826 \n",
            "Saving...\n",
            "time: 49.301252365112305\n",
            "----------------------------------------------------------------------\n",
            "|epoch: 2|\n",
            "loss1: 0.671762327821035 loss2: 1.3752573391480942 loss3: 1.279443282679344 loss4: 0.6069001875799288 \n",
            "|Validation:|\n",
            "loss1: 0.5108085235810101 loss2: 0.9035503333207316 loss3: 0.8870117688767778 loss4: 0.406278557185442 \n",
            "Saving...\n",
            "time: 49.235657691955566\n",
            "----------------------------------------------------------------------\n",
            "|epoch: 3|\n",
            "loss1: 0.3361891395073979 loss2: 0.6255985552684044 loss3: 0.5918729453190225 loss4: 0.3022845403412428 \n",
            "|Validation:|\n",
            "loss1: 0.320337392648275 loss2: 0.5232196773051563 loss3: 0.5405023848345394 loss4: 0.26069581523093566 \n",
            "Saving...\n",
            "time: 49.311119556427\n",
            "----------------------------------------------------------------------\n",
            "|epoch: 4|\n",
            "loss1: 0.22636171615469775 loss2: 0.382317691715373 loss3: 0.35447146943831365 loss4: 0.19962589798760902 \n",
            "|Validation:|\n",
            "loss1: 0.24330730877303147 loss2: 0.445491050031902 loss3: 0.401061930924686 loss4: 0.22448510045648346 \n",
            "Saving...\n",
            "time: 49.77699637413025\n",
            "----------------------------------------------------------------------\n",
            "|epoch: 5|\n",
            "loss1: 0.17664354331619309 loss2: 0.2737028939215862 loss3: 0.25235760733131896 loss4: 0.14719546241467046 \n",
            "|Validation:|\n",
            "loss1: 0.2331834524926386 loss2: 0.36018448289341426 loss3: 0.339468628065248 loss4: 0.18093265082512494 \n",
            "Saving...\n",
            "time: 49.25898265838623\n",
            "----------------------------------------------------------------------\n",
            "|epoch: 6|\n",
            "loss1: 0.14139822660135717 loss2: 0.22764884839362856 loss3: 0.21183781833890117 loss4: 0.12179235988620485 \n",
            "|Validation:|\n",
            "loss1: 0.22014942032969925 loss2: 0.3615399985497151 loss3: 0.3725606071938602 loss4: 0.17306824435589535 time: 49.04403734207153\n",
            "----------------------------------------------------------------------\n",
            "|epoch: 7|\n",
            "loss1: 0.11926569798034965 loss2: 0.18953688843499963 loss3: 0.16733158105876242 loss4: 0.10220635906872368 \n",
            "|Validation:|\n",
            "loss1: 0.21518799726448892 loss2: 0.29715206652059684 loss3: 0.31181102049846326 loss4: 0.14395093578406 \n",
            "Saving...\n",
            "time: 49.45400953292847\n",
            "----------------------------------------------------------------------\n",
            "|epoch: 8|\n",
            "loss1: 0.10567280347398601 loss2: 0.17201737133521744 loss3: 0.1382711751297242 loss4: 0.08996532582146577 \n",
            "|Validation:|\n",
            "loss1: 0.18238039972321538 loss2: 0.27345964148625995 loss3: 0.2721374643723962 loss4: 0.14833004315538895 \n",
            "Saving...\n",
            "time: 49.07379961013794\n",
            "----------------------------------------------------------------------\n",
            "|epoch: 9|\n",
            "loss1: 0.09782442124340235 loss2: 0.1464303487175489 loss3: 0.12569756862608475 loss4: 0.08305033149346705 \n",
            "|Validation:|\n",
            "loss1: 0.15022472109839535 loss2: 0.2791268194815871 loss3: 0.26763643777051366 loss4: 0.11971757443648752 \n",
            "Saving...\n",
            "time: 49.10289549827576\n",
            "----------------------------------------------------------------------\n",
            "|epoch: 10|\n",
            "loss1: 0.08182537945879774 loss2: 0.1244091719527857 loss3: 0.121559969989014 loss4: 0.07843918538127066 \n",
            "|Validation:|\n",
            "loss1: 0.13358088095875634 loss2: 0.26661866180803945 loss3: 0.27374626706900373 loss4: 0.12219784008601639 \n",
            "Saving...\n",
            "time: 49.75383162498474\n",
            "----------------------------------------------------------------------\n",
            "|epoch: 11|\n",
            "loss1: 0.08924665497276806 loss2: 0.12063299035705512 loss3: 0.11049993013954701 loss4: 0.06970601899664314 \n",
            "|Validation:|\n",
            "loss1: 0.16227448318010168 loss2: 0.31252380907825406 loss3: 0.24751670700386247 loss4: 0.14977525087521432 time: 48.84211826324463\n",
            "----------------------------------------------------------------------\n",
            "|epoch: 12|\n",
            "loss1: 0.07540196264737258 loss2: 0.10332220615766227 loss3: 0.09909346001867782 loss4: 0.07272545242117762 \n",
            "|Validation:|\n",
            "loss1: 0.1350021973232993 loss2: 0.26696006492927526 loss3: 0.22086235010168673 loss4: 0.11540825968546546 \n",
            "Saving...\n",
            "time: 48.91202902793884\n",
            "----------------------------------------------------------------------\n",
            "|epoch: 13|\n",
            "loss1: 0.07584100585970392 loss2: 0.10368630136095712 loss3: 0.10027875560494919 loss4: 0.061432258648488634 \n",
            "|Validation:|\n",
            "loss1: 0.1267447048654377 loss2: 0.25085985287282697 loss3: 0.23903217648893405 loss4: 0.12856371417806634 time: 48.70982885360718\n",
            "----------------------------------------------------------------------\n",
            "|epoch: 14|\n",
            "loss1: 0.07633438836693947 loss2: 0.0927936085340388 loss3: 0.0865139655508277 loss4: 0.05953644015191584 \n",
            "|Validation:|\n",
            "loss1: 0.1280419903300215 loss2: 0.23832616271463697 loss3: 0.23825182370846062 loss4: 0.1036807895404162 \n",
            "Saving...\n",
            "time: 48.96581530570984\n",
            "----------------------------------------------------------------------\n",
            "|epoch: 15|\n",
            "loss1: 0.06890809100801562 loss2: 0.10074721758022276 loss3: 0.0869656796271501 loss4: 0.0580005444977167 \n",
            "|Validation:|\n",
            "loss1: 0.12904128130619666 loss2: 0.272185224045308 loss3: 0.2545871894765527 loss4: 0.13482325071733295 time: 48.500000953674316\n",
            "----------------------------------------------------------------------\n",
            "|epoch: 16|\n",
            "loss1: 0.0650950975556018 loss2: 0.07437288391385528 loss3: 0.07190999461888219 loss4: 0.055044458622596944 \n",
            "|Validation:|\n",
            "loss1: 0.15179525742358452 loss2: 0.28652030363284997 loss3: 0.23625889528295324 loss4: 0.10860949099584483 time: 48.30231976509094\n",
            "----------------------------------------------------------------------\n",
            "|epoch: 17|\n",
            "loss1: 0.0612056184989732 loss2: 0.07942799656207579 loss3: 0.07668063427314638 loss4: 0.060836691726610055 \n",
            "|Validation:|\n",
            "loss1: 0.12148705292745714 loss2: 0.25904002343191423 loss3: 0.20973382975282653 loss4: 0.11594704664196627 \n",
            "Saving...\n",
            "time: 49.0231876373291\n",
            "----------------------------------------------------------------------\n",
            "|epoch: 18|\n",
            "loss1: 0.05693525544394165 loss2: 0.07679624259906147 loss3: 0.06718796832414212 loss4: 0.043543007377125124 \n",
            "|Validation:|\n",
            "loss1: 0.12394602584998873 loss2: 0.25939469884790867 loss3: 0.2278890070895348 loss4: 0.10502766839837126 time: 48.6361129283905\n",
            "----------------------------------------------------------------------\n",
            "|epoch: 19|\n",
            "loss1: 0.06551965885077381 loss2: 0.09210220583190418 loss3: 0.0833714606901273 loss4: 0.056433820814619166 \n",
            "|Validation:|\n",
            "loss1: 0.12523871691951952 loss2: 0.25570892334135864 loss3: 0.24231683047955963 loss4: 0.14220210807245923 time: 48.63172626495361\n",
            "----------------------------------------------------------------------\n",
            "|epoch: 20|\n",
            "loss1: 0.05845674798987979 loss2: 0.08100651153546283 loss3: 0.0689778947319023 loss4: 0.049875646338534904 \n",
            "|Validation:|\n",
            "loss1: 0.12873235140781544 loss2: 0.1989932174312245 loss3: 0.20627366760066024 loss4: 0.10792295869450177 \n",
            "Saving...\n",
            "time: 48.79356646537781\n",
            "----------------------------------------------------------------------\n"
          ]
        }
      ],
      "source": [
        "captcha_len = 4\n",
        "\n",
        "train_iter, valid_iter = load_data(captcha_len=captcha_len, batch_size=128)\n",
        "\n",
        "model = ResCAPTCHA()\n",
        "device = torch.device(\"cuda\" if torch.cuda.is_available() else \"cpu\")\n",
        "model.to(device)\n",
        "optimizer = Adam(params=model.parameters(), lr=1e-3)\n",
        "scheduler = ReduceLROnPlateau(optimizer, patience=1)\n",
        "scheduler = ExponentialLR(optimizer, gamma=0.9)\n",
        "criterion = nn.CrossEntropyLoss()\n",
        "\n",
        "\n",
        "epochs = 20\n",
        "train(captcha_len=4)\n"
      ]
    },
    {
      "cell_type": "code",
      "execution_count": 13,
      "metadata": {
        "colab": {
          "base_uri": "https://localhost:8080/"
        },
        "id": "sOyPzbc8mSMg",
        "outputId": "a20fcac3-b27e-4698-e794-e1fd56204d4f"
      },
      "outputs": [
        {
          "name": "stdout",
          "output_type": "stream",
          "text": [
            "/content/drive/MyDrive/ML_HW5\n"
          ]
        }
      ],
      "source": [
        "%cd /content/drive/MyDrive/ML_HW5"
      ]
    },
    {
      "cell_type": "markdown",
      "metadata": {},
      "source": [
        "### 8. Predict"
      ]
    },
    {
      "cell_type": "code",
      "execution_count": 14,
      "metadata": {
        "id": "axEq9Rrb0u6e"
      },
      "outputs": [],
      "source": [
        "# alphabet = list(\"0123456789abcdefghijklmnopqrstuvwxyz\")\n",
        "# prediction = {\"filename\": [], \"label\": []}\n",
        "# transform = tf.Compose(\n",
        "#     [\n",
        "#         tf.RandomRotation([0, 15]),\n",
        "#         tf.Lambda(lambda x: x.repeat(1, 3, 1, 1)),\n",
        "#     ]\n",
        "# )\n",
        "\n",
        "\n",
        "# def predict(cur_task, model_path, length, model_type=\"\"):\n",
        "   \n",
        "#     model = ResCAPTCHA()\n",
        "  \n",
        "\n",
        "#     device = torch.device(\"cuda\" if torch.cuda.is_available() else \"cpu\")\n",
        "#     model.to(device)\n",
        "#     model.load_state_dict(torch.load(model_path))\n",
        "#     model.eval()\n",
        "#     with torch.no_grad():\n",
        "#         test_path = Path(\".\") / \"test1\"\n",
        "#         for path in test_path.rglob(\"*.png\"):\n",
        "#             if str(path).split(\"/\")[1] == cur_task:\n",
        "#                 img = cv2.imread(str(path))\n",
        "#                 img = cv2.cvtColor(img, cv2.COLOR_BGR2GRAY)\n",
        "                \n",
        "#                 # img = cv2.equalizeHist(img)\n",
        "#                 img = img / 255.0\n",
        "#                 img = np.reshape(img, (img.shape[0], img.shape[1], 1))\n",
        "#                 img = img.transpose((2, 0, 1))\n",
        "\n",
        "#                 img = torch.tensor(img.astype(np.float32))\n",
        "#                 img = torch.reshape(img, (1, img.shape[0], img.shape[1], img.shape[2]))\n",
        "                \n",
        "#                 candidate = [{} for _ in range(length)]\n",
        "#                 for _ in range(5):\n",
        "#                   cur_img = transform(img)\n",
        "#                   cur_img = cur_img.to(device)\n",
        "#                   output = model(cur_img)\n",
        "                 \n",
        "#                   for i in range(length):\n",
        "#                       index = alphabet[torch.argmax(output[i])]\n",
        "#                       if index in candidate[i].keys():\n",
        "#                         candidate[i][index] += 1\n",
        "#                       else:\n",
        "#                         candidate[i][index] = 1\n",
        "#                 result = \"\"\n",
        "#                 for i in range(length):\n",
        "#                   result += max(candidate[i], key=candidate[i].get)  \n",
        "#                 prediction[\"filename\"].append(str(path)[6:])\n",
        "#                 prediction[\"label\"].append(result)\n",
        "\n",
        "\n",
        "# predict(cur_task=\"task1\", model_path=\"/content/model1_res18.pth\", length=1)\n",
        "# predict(cur_task=\"task2\", model_path=\"/content/model2_res18.pth\", length=2)\n",
        "# predict(cur_task=\"task3\", model_path=\"/content/model4_res18.pth\", length=4)\n",
        "\n",
        "\n",
        "# df = pd.DataFrame(prediction)\n",
        "# df.to_csv(\"submission.csv\", index=False)\n"
      ]
    }
  ],
  "metadata": {
    "accelerator": "GPU",
    "colab": {
      "provenance": []
    },
    "gpuClass": "standard",
    "kernelspec": {
      "display_name": "Python 3.10.8 64-bit",
      "language": "python",
      "name": "python3"
    },
    "language_info": {
      "name": "python",
      "version": "3.10.9 (main, Dec 15 2022, 17:11:09) [Clang 14.0.0 (clang-1400.0.29.202)]"
    },
    "vscode": {
      "interpreter": {
        "hash": "b0fa6594d8f4cbf19f97940f81e996739fb7646882a419484c72d19e05852a7e"
      }
    },
    "widgets": {
      "application/vnd.jupyter.widget-state+json": {
        "0f79edd7b33e45ef95b237a7874c56ff": {
          "model_module": "@jupyter-widgets/controls",
          "model_module_version": "1.5.0",
          "model_name": "HTMLModel",
          "state": {
            "_dom_classes": [],
            "_model_module": "@jupyter-widgets/controls",
            "_model_module_version": "1.5.0",
            "_model_name": "HTMLModel",
            "_view_count": null,
            "_view_module": "@jupyter-widgets/controls",
            "_view_module_version": "1.5.0",
            "_view_name": "HTMLView",
            "description": "",
            "description_tooltip": null,
            "layout": "IPY_MODEL_f7048fe32cab4216bfd66b9b0c2c5b45",
            "placeholder": "​",
            "style": "IPY_MODEL_320ea50f9dd4473588bccdde775bcc37",
            "value": " 44.7M/44.7M [00:03&lt;00:00, 17.7MB/s]"
          }
        },
        "1f6f001f235140b793daa71dffb5d454": {
          "model_module": "@jupyter-widgets/controls",
          "model_module_version": "1.5.0",
          "model_name": "HBoxModel",
          "state": {
            "_dom_classes": [],
            "_model_module": "@jupyter-widgets/controls",
            "_model_module_version": "1.5.0",
            "_model_name": "HBoxModel",
            "_view_count": null,
            "_view_module": "@jupyter-widgets/controls",
            "_view_module_version": "1.5.0",
            "_view_name": "HBoxView",
            "box_style": "",
            "children": [
              "IPY_MODEL_8d5f19ea02884adbbcb2f663390c61b6",
              "IPY_MODEL_ff809e774a954ceab4d0c227dd54d6da",
              "IPY_MODEL_0f79edd7b33e45ef95b237a7874c56ff"
            ],
            "layout": "IPY_MODEL_9aba4e435da544708f49c243a6d7e118"
          }
        },
        "267ecbd195574409895865255b1e2b14": {
          "model_module": "@jupyter-widgets/base",
          "model_module_version": "1.2.0",
          "model_name": "LayoutModel",
          "state": {
            "_model_module": "@jupyter-widgets/base",
            "_model_module_version": "1.2.0",
            "_model_name": "LayoutModel",
            "_view_count": null,
            "_view_module": "@jupyter-widgets/base",
            "_view_module_version": "1.2.0",
            "_view_name": "LayoutView",
            "align_content": null,
            "align_items": null,
            "align_self": null,
            "border": null,
            "bottom": null,
            "display": null,
            "flex": null,
            "flex_flow": null,
            "grid_area": null,
            "grid_auto_columns": null,
            "grid_auto_flow": null,
            "grid_auto_rows": null,
            "grid_column": null,
            "grid_gap": null,
            "grid_row": null,
            "grid_template_areas": null,
            "grid_template_columns": null,
            "grid_template_rows": null,
            "height": null,
            "justify_content": null,
            "justify_items": null,
            "left": null,
            "margin": null,
            "max_height": null,
            "max_width": null,
            "min_height": null,
            "min_width": null,
            "object_fit": null,
            "object_position": null,
            "order": null,
            "overflow": null,
            "overflow_x": null,
            "overflow_y": null,
            "padding": null,
            "right": null,
            "top": null,
            "visibility": null,
            "width": null
          }
        },
        "320ea50f9dd4473588bccdde775bcc37": {
          "model_module": "@jupyter-widgets/controls",
          "model_module_version": "1.5.0",
          "model_name": "DescriptionStyleModel",
          "state": {
            "_model_module": "@jupyter-widgets/controls",
            "_model_module_version": "1.5.0",
            "_model_name": "DescriptionStyleModel",
            "_view_count": null,
            "_view_module": "@jupyter-widgets/base",
            "_view_module_version": "1.2.0",
            "_view_name": "StyleView",
            "description_width": ""
          }
        },
        "3f8d0a10580c4d6b82341bda18c31d95": {
          "model_module": "@jupyter-widgets/controls",
          "model_module_version": "1.5.0",
          "model_name": "ProgressStyleModel",
          "state": {
            "_model_module": "@jupyter-widgets/controls",
            "_model_module_version": "1.5.0",
            "_model_name": "ProgressStyleModel",
            "_view_count": null,
            "_view_module": "@jupyter-widgets/base",
            "_view_module_version": "1.2.0",
            "_view_name": "StyleView",
            "bar_color": null,
            "description_width": ""
          }
        },
        "8d5f19ea02884adbbcb2f663390c61b6": {
          "model_module": "@jupyter-widgets/controls",
          "model_module_version": "1.5.0",
          "model_name": "HTMLModel",
          "state": {
            "_dom_classes": [],
            "_model_module": "@jupyter-widgets/controls",
            "_model_module_version": "1.5.0",
            "_model_name": "HTMLModel",
            "_view_count": null,
            "_view_module": "@jupyter-widgets/controls",
            "_view_module_version": "1.5.0",
            "_view_name": "HTMLView",
            "description": "",
            "description_tooltip": null,
            "layout": "IPY_MODEL_267ecbd195574409895865255b1e2b14",
            "placeholder": "​",
            "style": "IPY_MODEL_92b54b9ddd1c47d3bdce509ad9eba4b5",
            "value": "100%"
          }
        },
        "92b54b9ddd1c47d3bdce509ad9eba4b5": {
          "model_module": "@jupyter-widgets/controls",
          "model_module_version": "1.5.0",
          "model_name": "DescriptionStyleModel",
          "state": {
            "_model_module": "@jupyter-widgets/controls",
            "_model_module_version": "1.5.0",
            "_model_name": "DescriptionStyleModel",
            "_view_count": null,
            "_view_module": "@jupyter-widgets/base",
            "_view_module_version": "1.2.0",
            "_view_name": "StyleView",
            "description_width": ""
          }
        },
        "95849bf25bf34d459a7235dc3223260f": {
          "model_module": "@jupyter-widgets/base",
          "model_module_version": "1.2.0",
          "model_name": "LayoutModel",
          "state": {
            "_model_module": "@jupyter-widgets/base",
            "_model_module_version": "1.2.0",
            "_model_name": "LayoutModel",
            "_view_count": null,
            "_view_module": "@jupyter-widgets/base",
            "_view_module_version": "1.2.0",
            "_view_name": "LayoutView",
            "align_content": null,
            "align_items": null,
            "align_self": null,
            "border": null,
            "bottom": null,
            "display": null,
            "flex": null,
            "flex_flow": null,
            "grid_area": null,
            "grid_auto_columns": null,
            "grid_auto_flow": null,
            "grid_auto_rows": null,
            "grid_column": null,
            "grid_gap": null,
            "grid_row": null,
            "grid_template_areas": null,
            "grid_template_columns": null,
            "grid_template_rows": null,
            "height": null,
            "justify_content": null,
            "justify_items": null,
            "left": null,
            "margin": null,
            "max_height": null,
            "max_width": null,
            "min_height": null,
            "min_width": null,
            "object_fit": null,
            "object_position": null,
            "order": null,
            "overflow": null,
            "overflow_x": null,
            "overflow_y": null,
            "padding": null,
            "right": null,
            "top": null,
            "visibility": null,
            "width": null
          }
        },
        "9aba4e435da544708f49c243a6d7e118": {
          "model_module": "@jupyter-widgets/base",
          "model_module_version": "1.2.0",
          "model_name": "LayoutModel",
          "state": {
            "_model_module": "@jupyter-widgets/base",
            "_model_module_version": "1.2.0",
            "_model_name": "LayoutModel",
            "_view_count": null,
            "_view_module": "@jupyter-widgets/base",
            "_view_module_version": "1.2.0",
            "_view_name": "LayoutView",
            "align_content": null,
            "align_items": null,
            "align_self": null,
            "border": null,
            "bottom": null,
            "display": null,
            "flex": null,
            "flex_flow": null,
            "grid_area": null,
            "grid_auto_columns": null,
            "grid_auto_flow": null,
            "grid_auto_rows": null,
            "grid_column": null,
            "grid_gap": null,
            "grid_row": null,
            "grid_template_areas": null,
            "grid_template_columns": null,
            "grid_template_rows": null,
            "height": null,
            "justify_content": null,
            "justify_items": null,
            "left": null,
            "margin": null,
            "max_height": null,
            "max_width": null,
            "min_height": null,
            "min_width": null,
            "object_fit": null,
            "object_position": null,
            "order": null,
            "overflow": null,
            "overflow_x": null,
            "overflow_y": null,
            "padding": null,
            "right": null,
            "top": null,
            "visibility": null,
            "width": null
          }
        },
        "f7048fe32cab4216bfd66b9b0c2c5b45": {
          "model_module": "@jupyter-widgets/base",
          "model_module_version": "1.2.0",
          "model_name": "LayoutModel",
          "state": {
            "_model_module": "@jupyter-widgets/base",
            "_model_module_version": "1.2.0",
            "_model_name": "LayoutModel",
            "_view_count": null,
            "_view_module": "@jupyter-widgets/base",
            "_view_module_version": "1.2.0",
            "_view_name": "LayoutView",
            "align_content": null,
            "align_items": null,
            "align_self": null,
            "border": null,
            "bottom": null,
            "display": null,
            "flex": null,
            "flex_flow": null,
            "grid_area": null,
            "grid_auto_columns": null,
            "grid_auto_flow": null,
            "grid_auto_rows": null,
            "grid_column": null,
            "grid_gap": null,
            "grid_row": null,
            "grid_template_areas": null,
            "grid_template_columns": null,
            "grid_template_rows": null,
            "height": null,
            "justify_content": null,
            "justify_items": null,
            "left": null,
            "margin": null,
            "max_height": null,
            "max_width": null,
            "min_height": null,
            "min_width": null,
            "object_fit": null,
            "object_position": null,
            "order": null,
            "overflow": null,
            "overflow_x": null,
            "overflow_y": null,
            "padding": null,
            "right": null,
            "top": null,
            "visibility": null,
            "width": null
          }
        },
        "ff809e774a954ceab4d0c227dd54d6da": {
          "model_module": "@jupyter-widgets/controls",
          "model_module_version": "1.5.0",
          "model_name": "FloatProgressModel",
          "state": {
            "_dom_classes": [],
            "_model_module": "@jupyter-widgets/controls",
            "_model_module_version": "1.5.0",
            "_model_name": "FloatProgressModel",
            "_view_count": null,
            "_view_module": "@jupyter-widgets/controls",
            "_view_module_version": "1.5.0",
            "_view_name": "ProgressView",
            "bar_style": "success",
            "description": "",
            "description_tooltip": null,
            "layout": "IPY_MODEL_95849bf25bf34d459a7235dc3223260f",
            "max": 46830571,
            "min": 0,
            "orientation": "horizontal",
            "style": "IPY_MODEL_3f8d0a10580c4d6b82341bda18c31d95",
            "value": 46830571
          }
        }
      }
    }
  },
  "nbformat": 4,
  "nbformat_minor": 0
}
